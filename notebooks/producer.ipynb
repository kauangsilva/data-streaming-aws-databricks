{
 "cells": [
  {
   "cell_type": "code",
   "execution_count": 0,
   "metadata": {
    "application/vnd.databricks.v1+cell": {
     "cellMetadata": {
      "byteLimit": 2048000,
      "rowLimit": 10000
     },
     "inputWidgets": {},
     "nuid": "727c5ab1-c247-47d1-adb9-e8a64050d6ff",
     "showTitle": false,
     "tableResultSettingsMap": {},
     "title": ""
    }
   },
   "outputs": [],
   "source": [
    "import boto3\n",
    "import json\n",
    "import time"
   ]
  },
  {
   "cell_type": "code",
   "execution_count": 0,
   "metadata": {
    "application/vnd.databricks.v1+cell": {
     "cellMetadata": {
      "byteLimit": 2048000,
      "rowLimit": 10000
     },
     "inputWidgets": {},
     "nuid": "9ab8ba40-6663-41a0-808a-926d1a684106",
     "showTitle": false,
     "tableResultSettingsMap": {},
     "title": ""
    }
   },
   "outputs": [],
   "source": [
    "\n",
    "\n",
    "def send_to_kinesis():\n",
    "    try:\n",
    "        # configuração com o kinesis\n",
    "        cliente = boto3.client('kinesis',\n",
    "                             aws_access_key_id='AWS_ACCESS_KEY_ID',\n",
    "                             aws_secret_access_key='AWS_SECRET_ACCESS_KEY',\n",
    "                             region_name='sa-east-1')\n",
    "\n",
    "        \n",
    "        registro = {'idvendedor': '003', 'nome': 'Kauan', 'cidade': 'Sao Vicente'}\n",
    "\n",
    "        # enviando os dados pro kinesis\n",
    "        resposta = cliente.put_record(\n",
    "            StreamName='stream1',      \n",
    "            Data=json.dumps(registro), \n",
    "            PartitionKey='02'          \n",
    "        )\n",
    "        \n",
    "        # confirmação do envio\n",
    "        print(\"Dados enviados com sucesso!\")\n",
    "        print(f\"Resposta do Kinesis: {resposta}\")\n",
    "        return resposta\n",
    "        \n",
    "    except Exception as e:\n",
    "        # se der erro, mostra a mensagem e tenta novamente em 5 segundos\n",
    "        print(f\"Erro ao enviar dados para o Kinesis: {str(e)}\")\n",
    "        time.sleep(5)\n",
    "        print(\"reconectando...\")\n",
    "        return send_to_kinesis()  \n",
    "\n",
    "# iniciando o processo\n",
    "if __name__ == \"__main__\":\n",
    "    send_to_kinesis()  "
   ]
  }
 ],
 "metadata": {
  "application/vnd.databricks.v1+notebook": {
   "computePreferences": null,
   "dashboards": [],
   "environmentMetadata": {
    "base_environment": "",
    "environment_version": "2"
   },
   "inputWidgetPreferences": null,
   "language": "python",
   "notebookMetadata": {
    "pythonIndentUnit": 4
   },
   "notebookName": "prod",
   "widgets": {}
  },
  "language_info": {
   "name": "python"
  }
 },
 "nbformat": 4,
 "nbformat_minor": 0
}
