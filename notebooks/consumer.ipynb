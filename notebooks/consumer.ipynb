{
 "cells": [
  {
   "cell_type": "code",
   "execution_count": 0,
   "metadata": {
    "application/vnd.databricks.v1+cell": {
     "cellMetadata": {
      "byteLimit": 2048000,
      "rowLimit": 10000
     },
     "inputWidgets": {},
     "nuid": "87e09b3e-5355-448d-bbc8-c427d820058b",
     "showTitle": false,
     "tableResultSettingsMap": {},
     "title": ""
    }
   },
   "outputs": [],
   "source": [
    "import boto3\n",
    "import time\n",
    "import json"
   ]
  },
  {
   "cell_type": "code",
   "execution_count": 0,
   "metadata": {
    "application/vnd.databricks.v1+cell": {
     "cellMetadata": {
      "byteLimit": 2048000,
      "rowLimit": 10000
     },
     "inputWidgets": {},
     "nuid": "2beb1f85-20a4-4404-916c-3243309b6e94",
     "showTitle": false,
     "tableResultSettingsMap": {},
     "title": ""
    }
   },
   "outputs": [],
   "source": [
    "\n",
    "try:\n",
    "    # configuração com o kinesis\n",
    "    cliente = boto3.client('kinesis',\n",
    "                         aws_access_key_id='AWS_ACCESS_KEY_ID',\n",
    "                         aws_secret_access_key='AWS_SECRET_ACCESS_KEY',\n",
    "                         region_name='sa-east-1')\n",
    "\n",
    "    # ponto de início da leitura dos dados\n",
    "    shard = cliente.get_shard_iterator(\n",
    "               StreamName=\"stream1\",\n",
    "               ShardId='shardId-000000000002',\n",
    "               ShardIteratorType='LATEST'\n",
    "               )[\"ShardIterator\"]\n",
    "\n",
    "    # loop para consumir os dados\n",
    "    while shard is not None:\n",
    "        try:\n",
    "            resultado = cliente.get_records(ShardIterator=shard)\n",
    "            registros = resultado['Records']\n",
    "            shard = resultado[\"NextShardIterator\"]\n",
    "            \n",
    "            for registro in registros:\n",
    "                print(\"--- Novo Registro ---\")\n",
    "                print(f\"SequenceNumber: {registro['SequenceNumber']}\")\n",
    "                print(f\"Timestamp: {registro['ApproximateArrivalTimestamp']}\")\n",
    "                print(f\"PartitionKey: {registro['PartitionKey']}\")\n",
    "                print(f\"Dados: {json.loads(registro['Data'])}\")  # converte o json pro dicionário\n",
    "            \n",
    "            time.sleep(1)  # esper 1 segundo entre as verificações\n",
    "            \n",
    "        except Exception as e:\n",
    "            print(f\"Erro ao consumir dados: {str(e)}\")\n",
    "            time.sleep(5)  # espera 5 segundos pra retomar a leitura\n",
    "            continue\n",
    "\n",
    "except Exception as e:\n",
    "    print(f\"Erro na configuração: {str(e)}\")   "
   ]
  }
 ],
 "metadata": {
  "application/vnd.databricks.v1+notebook": {
   "computePreferences": null,
   "dashboards": [],
   "environmentMetadata": {
    "base_environment": "",
    "environment_version": "2"
   },
   "inputWidgetPreferences": null,
   "language": "python",
   "notebookMetadata": {
    "pythonIndentUnit": 4
   },
   "notebookName": "cons",
   "widgets": {}
  },
  "language_info": {
   "name": "python"
  }
 },
 "nbformat": 4,
 "nbformat_minor": 0
}
